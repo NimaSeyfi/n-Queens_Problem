{
 "cells": [
  {
   "cell_type": "markdown",
   "metadata": {},
   "source": [
    "# Importing Libraries"
   ]
  },
  {
   "cell_type": "code",
   "execution_count": 38,
   "metadata": {},
   "outputs": [],
   "source": [
    "import numpy as np\n",
    "import matplotlib.pyplot as plt\n",
    "from copy import deepcopy"
   ]
  },
  {
   "cell_type": "code",
   "execution_count": null,
   "metadata": {},
   "outputs": [],
   "source": []
  },
  {
   "cell_type": "code",
   "execution_count": 39,
   "metadata": {},
   "outputs": [
    {
     "data": {
      "text/plain": [
       "array([7, 3, 5, 1, 2, 0, 4, 6])"
      ]
     },
     "execution_count": 39,
     "metadata": {},
     "output_type": "execute_result"
    }
   ],
   "source": [
    "genes = np.random.permutation(8)\n",
    "genes"
   ]
  },
  {
   "cell_type": "markdown",
   "metadata": {},
   "source": [
    "### Designing Chromosome"
   ]
  },
  {
   "cell_type": "code",
   "execution_count": 54,
   "metadata": {},
   "outputs": [],
   "source": [
    "class Chromosome :\n",
    "    def __init__(self, length) :\n",
    "        self.genes = np.random.permutation(8)\n",
    "        self.fitness = float('-inf')\n",
    "        \n",
    "    def __len__(self) :\n",
    "        return len(self.genes)\n",
    "    \n",
    "    def reset(self) :\n",
    "        self.fitness = float('-inf')"
   ]
  },
  {
   "cell_type": "code",
   "execution_count": 55,
   "metadata": {},
   "outputs": [],
   "source": [
    "population_init = lambda size, chrom_size : np.array([Chromosome(chrom_size) for _ in range(size)])"
   ]
  },
  {
   "cell_type": "markdown",
   "metadata": {},
   "source": [
    "### Fitness Function"
   ]
  },
  {
   "cell_type": "code",
   "execution_count": 41,
   "metadata": {},
   "outputs": [],
   "source": [
    "#nima\n",
    "def fitness(X=Chromosome(8)) :\n",
    "    \n",
    "    \n",
    "    \n",
    "    return 0\n",
    "    "
   ]
  },
  {
   "cell_type": "markdown",
   "metadata": {},
   "source": [
    "### Selection Function"
   ]
  },
  {
   "cell_type": "code",
   "execution_count": 42,
   "metadata": {},
   "outputs": [],
   "source": [
    "#sarah\n",
    "# get an array of chromosomes and tournament size then return the winner chromosome\n",
    "def tournament_selection(pop, tournament_size=3) :\n",
    "    \n",
    "    return Chromosome(8)"
   ]
  },
  {
   "cell_type": "markdown",
   "metadata": {},
   "source": [
    "### Crossover Function"
   ]
  },
  {
   "cell_type": "code",
   "execution_count": 45,
   "metadata": {},
   "outputs": [],
   "source": [
    "#pouya\n",
    "#return two child chromosomes out of two parents\n",
    "def PMX_crossover(pop, selection_method, pc) :\n",
    "    \n",
    "    return Chromosome(8),Chromosome(8)"
   ]
  },
  {
   "cell_type": "markdown",
   "metadata": {},
   "source": [
    "### Mutation Function\n"
   ]
  },
  {
   "cell_type": "code",
   "execution_count": 47,
   "metadata": {},
   "outputs": [],
   "source": [
    "#nima\n",
    "# implement the swap mutation with a chance of pm and return the chromosome after swaping genes\n",
    "def random_mutation(chrom, pm) :\n",
    "    \n",
    "    return chrom"
   ]
  },
  {
   "cell_type": "markdown",
   "metadata": {},
   "source": [
    "# Genetic Algorithm"
   ]
  },
  {
   "cell_type": "code",
   "execution_count": 57,
   "metadata": {},
   "outputs": [],
   "source": [
    "def nQueens_genetic_algorithm(queens_number=8, pop_size=50, iter_num=10, pm=.1, pc=.9, seed=0) :\n",
    "    \n",
    "    best_fitness = float('-inf')\n",
    "    \n",
    "    # Initializing the population   \n",
    "    pop = population_init(pop_size, queens_number)\n",
    "    \n",
    "    # Calculating Fitness of each individual\n",
    "    for i in range(pop_size) :\n",
    "        pop[i].fitness = fitness(pop[i])\n",
    "        if best_fitness < pop[i].fitness :\n",
    "            best_fitness = pop[i].fitness\n",
    "            \n",
    "    # Loop : Selection, Crossover, Mutation\n",
    "    for generation in range(1, iter_num) :\n",
    "        new_pop = np.array([])\n",
    "        \n",
    "        # Crossover\n",
    "        for i in range(int(pop_size/2)) :\n",
    "            child1, child2 = PMX_crossover(pop, tournament_selection, pc)\n",
    "            new_pop = np.append(new_pop, [child1, child2])\n",
    "        \n",
    "        # Mutation\n",
    "        for i in range(pop_size) :\n",
    "            new_pop[i] = random_mutation(new_pop[i], pm)\n",
    "            \n",
    "        \n",
    "        pop = new_pop\n",
    "        # Fitness Calculation\n",
    "        for i in range(pop_size) :\n",
    "            pop[i].fitness = fitness(pop[i])\n",
    "            if best_fitness < pop[i].fitness :\n",
    "                best_fitness = pop[i].fitness\n",
    "            \n",
    "       \n",
    "    \n",
    "    return best_fitness"
   ]
  },
  {
   "cell_type": "code",
   "execution_count": 84,
   "metadata": {},
   "outputs": [
    {
     "data": {
      "text/plain": [
       "0"
      ]
     },
     "execution_count": 84,
     "metadata": {},
     "output_type": "execute_result"
    }
   ],
   "source": [
    "nQueens_genetic_algorithm(3)"
   ]
  }
 ],
 "metadata": {
  "kernelspec": {
   "display_name": "Python 3",
   "language": "python",
   "name": "python3"
  },
  "language_info": {
   "codemirror_mode": {
    "name": "ipython",
    "version": 3
   },
   "file_extension": ".py",
   "mimetype": "text/x-python",
   "name": "python",
   "nbconvert_exporter": "python",
   "pygments_lexer": "ipython3",
   "version": "3.6.5"
  }
 },
 "nbformat": 4,
 "nbformat_minor": 2
}
